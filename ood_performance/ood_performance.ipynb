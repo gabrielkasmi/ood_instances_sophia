{
 "cells": [
  {
   "cell_type": "markdown",
   "id": "2f2c5d55",
   "metadata": {},
   "source": [
    "# Main result\n",
    "\n",
    "We plot the box plot of the main result."
   ]
  },
  {
   "cell_type": "code",
   "execution_count": 1,
   "id": "51701b1d",
   "metadata": {},
   "outputs": [],
   "source": [
    "import numpy as np\n",
    "import os\n",
    "import pandas as pd\n",
    "import matplotlib.pyplot as plt\n",
    "import random\n",
    "import json\n",
    "from src import helpers\n",
    "import seaborn as sns\n",
    "from sklearn import metrics\n",
    "import json"
   ]
  },
  {
   "cell_type": "code",
   "execution_count": 2,
   "id": "846ebd2c",
   "metadata": {},
   "outputs": [],
   "source": [
    "# Companion function\n",
    "def get_f1_scores(results, domain):\n",
    "    \"\"\"\n",
    "    computes the F1 score across the iterations.\n",
    "    \"\"\"\n",
    "    if domain == 'in_domain':\n",
    "        f1_scores = [np.mean(results[it]['in_domain']['f1']) for it in results.keys()]\n",
    "        return [f1 for f1 in f1_scores if not np.isnan(f1)]\n",
    "    elif domain in results['0']['out_domain'].keys():\n",
    "        f1_scores = [np.mean(results[it]['out_domain'][domain]['f1']) for it in results.keys()]\n",
    "        return [f1 for f1 in f1_scores if not np.isnan(f1)]"
   ]
  },
  {
   "cell_type": "code",
   "execution_count": 3,
   "id": "660e5a39",
   "metadata": {},
   "outputs": [],
   "source": [
    "with open('results/ood_instance_and_background_evaluation.json') as f:\n",
    "    results = json.load(f)"
   ]
  },
  {
   "cell_type": "code",
   "execution_count": 16,
   "id": "31fb6389",
   "metadata": {
    "scrolled": true
   },
   "outputs": [
    {
     "data": {
      "image/png": "[encoded data removed]",
      "text/plain": [
       "<Figure size 432x288 with 1 Axes>"
      ]
     },
     "metadata": {
      "needs_background": "light"
     },
     "output_type": "display_data"
    }
   ],
   "source": [
    "# Do the plot\n",
    "f1_scores = [get_f1_scores(results, domain) for domain in ['ood_instances', 'ood_background', 'ood']]\n",
    "plt.boxplot(f1_scores)\n",
    "plt.title('OOD F1 scores', fontsize = 20)\n",
    "plt.xticks(ticks = [1,2,3], labels = ['Arrays', 'Background', 'Both'], fontsize = 14) # labels\n",
    "plt.xlabel('OOD item', fontsize = 13)\n",
    "plt.ylabel(r'F1 score (higher is better)', fontsize = 13)\n",
    "plt.savefig('figs/F1_score_in_domain_to_ood.pdf')\n",
    "plt.show()"
   ]
  },
  {
   "cell_type": "code",
   "execution_count": 65,
   "id": "b8cfaf87",
   "metadata": {},
   "outputs": [],
   "source": [
    "medians = [np.mean(score) for score in f1_scores]"
   ]
  },
  {
   "cell_type": "code",
   "execution_count": 66,
   "id": "dbd2bfbe",
   "metadata": {},
   "outputs": [
    {
     "name": "stdout",
     "output_type": "stream",
     "text": [
      "Difference in domain -> OOD instances 0.14005940048805177\n",
      "Difference in domain -> OOD background 0.14069667008504783\n",
      "Difference in domain -> OOD 0.08953612448879611\n",
      "Difference OOD instances -> OOD background 0.0006372695969960596\n"
     ]
    }
   ],
   "source": [
    "#\n",
    "print('Difference in domain -> OOD instances', medians[0] - medians[1])\n",
    "print('Difference in domain -> OOD background', medians[0] - medians[2])\n",
    "print('Difference in domain -> OOD', medians[0] - medians[3])\n",
    "print('Difference OOD instances -> OOD background', medians[1] - medians[2])\n"
   ]
  },
  {
   "cell_type": "code",
   "execution_count": 67,
   "id": "cffd064e",
   "metadata": {},
   "outputs": [
    {
     "name": "stdout",
     "output_type": "stream",
     "text": [
      "Decomposition of the error from in domain to out of domain : \n",
      "0.1394221308910557\n",
      "0.08953612448879611\n"
     ]
    }
   ],
   "source": [
    "print('Decomposition of the error from in domain to out of domain : ')\n",
    "print(medians[0] - medians[1] - (medians[1]-medians[2]))\n",
    "print(medians[0] - medians[3])"
   ]
  },
  {
   "cell_type": "code",
   "execution_count": null,
   "id": "3b7c268e",
   "metadata": {},
   "outputs": [],
   "source": []
  }
 ],
 "metadata": {
  "kernelspec": {
   "display_name": "replications",
   "language": "python",
   "name": "replications"
  },
  "language_info": {
   "codemirror_mode": {
    "name": "ipython",
    "version": 3
   },
   "file_extension": ".py",
   "mimetype": "text/x-python",
   "name": "python",
   "nbconvert_exporter": "python",
   "pygments_lexer": "ipython3",
   "version": "3.7.10"
  }
 },
 "nbformat": 4,
 "nbformat_minor": 5
}
